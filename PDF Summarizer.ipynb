{
  "nbformat": 4,
  "nbformat_minor": 0,
  "metadata": {
    "colab": {
      "provenance": []
    },
    "kernelspec": {
      "name": "python3",
      "display_name": "Python 3"
    },
    "language_info": {
      "name": "python"
    }
  },
  "cells": [
    {
      "cell_type": "code",
      "execution_count": null,
      "metadata": {
        "id": "RYIzuu4AZ619"
      },
      "outputs": [],
      "source": [
        "# Step 1: Install required libraries\n",
        "!pip install transformers PyPDF2\n",
        "\n",
        "# Step 2: Upload your PDF\n",
        "from google.colab import files\n",
        "uploaded = files.upload()\n",
        "pdf_file = list(uploaded.keys())[0]\n",
        "\n",
        "# Step 3: Extract text from PDF\n",
        "import PyPDF2\n",
        "\n",
        "reader = PyPDF2.PdfReader(pdf_file)\n",
        "text = \"\"\n",
        "for page in reader.pages:\n",
        "    page_text = page.extract_text()\n",
        "    if page_text:\n",
        "        text += page_text + \"\\n\"\n",
        "\n",
        "print(\"Extracted text length:\", len(text))\n",
        "print(text[:5000])  # preview first 500 characters\n",
        "\n",
        "# Step 4: Load summarization model\n",
        "from transformers import pipeline\n",
        "summarizer = pipeline(\"summarization\", model=\"facebook/bart-large-cnn\")\n",
        "\n",
        "# Step 5: Function to split text into chunks\n",
        "def split_text(text, max_words=600):  # smaller chunks to avoid errors\n",
        "    words = text.split()\n",
        "    chunks = []\n",
        "    for i in range(0, len(words), max_words):\n",
        "        chunks.append(\" \".join(words[i:i+max_words]))\n",
        "    return chunks\n",
        "\n",
        "chunks = split_text(text)\n",
        "\n",
        "# Step 6: Summarize each chunk safely\n",
        "summaries = []\n",
        "for i, chunk in enumerate(chunks):\n",
        "    if not chunk.strip():  # skip empty chunks\n",
        "        continue\n",
        "    try:\n",
        "        print(f\"Summarizing chunk {i+1}/{len(chunks)}...\")\n",
        "        summary = summarizer(chunk, max_length=449, min_length=150, do_sample=False)\n",
        "        summaries.append(summary[0]['summary_text'])\n",
        "    except Exception as e:\n",
        "        print(f\"Skipping chunk {i+1} due to error: {e}\")\n",
        "\n",
        "# Step 7: Combine summaries\n",
        "final_summary = \" \".join(summaries)\n",
        "print(\"\\n===== FINAL SUMMARY =====\\n\")\n",
        "print(final_summary)\n",
        "\n",
        "# Step 8: Save summary to a file\n",
        "with open(\"summary.txt\", \"w\") as f:\n",
        "    f.write(final_summary)\n",
        "\n",
        "# Step 9: Download the summary\n",
        "from google.colab import files\n",
        "files.download(\"summary.txt\")\n"
      ]
    }
  ]
}